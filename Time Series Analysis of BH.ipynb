{
 "metadata": {
  "name": "",
  "signature": "sha256:c62409db0748fd905e32e4e45b877b66dd2e5c3448bd62b06dea13bcc8bbbb1e"
 },
 "nbformat": 3,
 "nbformat_minor": 0,
 "worksheets": [
  {
   "cells": [
    {
     "cell_type": "code",
     "collapsed": false,
     "input": [
      "import numpy as np\n",
      "import astroML.time_series as ts"
     ],
     "language": "python",
     "metadata": {},
     "outputs": [],
     "prompt_number": 8
    },
    {
     "cell_type": "code",
     "collapsed": false,
     "input": [
      "data = np.loadtxt('curve_plain_noheader.dat')"
     ],
     "language": "python",
     "metadata": {},
     "outputs": [],
     "prompt_number": 2
    },
    {
     "cell_type": "code",
     "collapsed": false,
     "input": [
      "data"
     ],
     "language": "python",
     "metadata": {},
     "outputs": [
      {
       "metadata": {},
       "output_type": "pyout",
       "prompt_number": 5,
       "text": [
        "array([[  7.09952000e+02,   5.00000000e+02,  -5.00000000e+02,\n",
        "          6.58711200e-02,   8.87428500e-03,  -8.87428500e-03],\n",
        "       [  1.70995200e+03,   5.00000000e+02,  -5.00000000e+02,\n",
        "          5.39916400e-02,   1.92525500e-02,  -1.57264800e-02],\n",
        "       [  6.70995200e+03,   5.00000000e+02,  -5.00000000e+02,\n",
        "          8.05739800e-02,   1.59557200e-02,  -1.59557200e-02],\n",
        "       ..., \n",
        "       [  1.90125710e+08,   5.00000000e+02,  -5.00000000e+02,\n",
        "          6.80499600e-02,   2.13822100e-02,  -1.77477200e-02],\n",
        "       [  1.90331710e+08,   5.00000000e+02,  -5.00000000e+02,\n",
        "          6.86089500e-02,   3.01700300e-02,  -2.33638600e-02],\n",
        "       [  1.90332710e+08,   5.00000000e+02,  -5.00000000e+02,\n",
        "          5.29427800e-02,   8.81686000e-03,  -8.81686000e-03]])"
       ]
      }
     ],
     "prompt_number": 5
    },
    {
     "cell_type": "code",
     "collapsed": false,
     "input": [
      "?ts"
     ],
     "language": "python",
     "metadata": {},
     "outputs": [],
     "prompt_number": 9
    },
    {
     "cell_type": "code",
     "collapsed": false,
     "input": [
      "ts.lomb_scargle"
     ],
     "language": "python",
     "metadata": {},
     "outputs": []
    }
   ],
   "metadata": {}
  }
 ]
}